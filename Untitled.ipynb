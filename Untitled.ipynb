{
 "cells": [
  {
   "cell_type": "code",
   "execution_count": 5,
   "metadata": {},
   "outputs": [
    {
     "ename": "IndentationError",
     "evalue": "unindent does not match any outer indentation level (<ipython-input-5-9f715932c738>, line 16)",
     "output_type": "error",
     "traceback": [
      "\u001b[1;36m  File \u001b[1;32m\"<ipython-input-5-9f715932c738>\"\u001b[1;36m, line \u001b[1;32m16\u001b[0m\n\u001b[1;33m    if os.environ.has_key(\"QUERY_STRING\"):\u001b[0m\n\u001b[1;37m                                          ^\u001b[0m\n\u001b[1;31mIndentationError\u001b[0m\u001b[1;31m:\u001b[0m unindent does not match any outer indentation level\n"
     ]
    }
   ],
   "source": [
    "import urllib, re, os\n",
    "\n",
    "import sys\n",
    "\n",
    "titlere = re.compile(\"<TITLE>(.*?)</TITLE>\", re.I|re.S)\n",
    "def gettitle(c):\n",
    "    x = titlere.findall(c)\n",
    "    if x: return x[0]\n",
    "    return None\n",
    "\n",
    "def htmlencode(text):\n",
    "    return text.replace('&', '&amp;').replace('<', '&lt;').replace('>', '&gt;')\n",
    "\n",
    "def rssify(title, link, items, encoding='utf8'):\n",
    "        feed = []\n",
    "    if os.environ.has_key(\"QUERY_STRING\"):\n",
    "        feed += \"Content-Type: application/xml; charset=\"+encoding\n",
    "    if encoding != 'utf8':\n",
    "        feed += '<?xml version=\"1.0\" encoding=\"'+encoding+'\"?>'\n",
    "    feed += '<rss version=\"2.0\" xmlns:content=\"http://purl.org/rss/1.0/modules/content/\" xmlns:dc=\"http://purl.org/dc/elements/1.1/\"><channel>\\n  <title>'+htmlencode(title)+'</title>\\n  <link>' + htmlencode(link) + '</link>\\n  <description>'+\"Scraped feed provided by aaronsw.com\"+'</description>'\n",
    "    for item in items:ac\n",
    "        feed += \"  <item>\"\n",
    "        if type(item) is not type({}): item = {'description': item}\n",
    "        x = item.keys(); x.sort()\n",
    "        for k in x:\n",
    "            feed += \"    <\"+k+\">\" + htmlencode(item[k]) + \"</\"+k+\">\"\n",
    "        feed += \"  </item>\"\n",
    "    feed += \"</channel></rss>\"\n",
    "        return \"\".join(feed)\n",
    "\n",
    "def fromurl(url, title=None):\n",
    "    content = urllib.urlopen(url).read()\n",
    "\n",
    "    if title:\n",
    "        x = gettitle(content)\n",
    "        if x: content = {'title': x, 'description': content, 'link':url}\n",
    "    else: title = gettitle(content)\n",
    "\n",
    "    return rssify(title, url, [content])\n",
    "\n",
    "def fromlist(title, link, itemlist):\n",
    "    items = []\n",
    "    for l in itemlist:\n",
    "        content = urllib.urlopen(l).read()\n",
    "        ntitle = gettitle(content)\n",
    "\n",
    "        if ntitle: items.append({'title': ntitle, 'description': content, 'link':l})\n",
    "        else: items.append(content)\n",
    "\n",
    "    return rssify(title, link, items)\n",
    "\n",
    "fromurl(\"http://vitanuova.loyalty.org/latest.html\", \"Vitanuova\")"
   ]
  },
  {
   "cell_type": "code",
   "execution_count": null,
   "metadata": {},
   "outputs": [],
   "source": []
  }
 ],
 "metadata": {
  "kernelspec": {
   "display_name": "python3.5",
   "language": "python",
   "name": "python3.5"
  },
  "language_info": {
   "codemirror_mode": {
    "name": "ipython",
    "version": 2
   },
   "file_extension": ".py",
   "mimetype": "text/x-python",
   "name": "python",
   "nbconvert_exporter": "python",
   "pygments_lexer": "ipython2",
   "version": "2.7.15"
  }
 },
 "nbformat": 4,
 "nbformat_minor": 2
}
