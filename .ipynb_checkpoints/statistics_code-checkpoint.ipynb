{
 "cells": [
  {
   "cell_type": "code",
   "execution_count": 69,
   "metadata": {},
   "outputs": [
    {
     "name": "stdout",
     "output_type": "stream",
     "text": [
      "'1 1 2'\n",
      "1.3\n",
      "1.0\n",
      "1\n"
     ]
    }
   ],
   "source": [
    "from collections import Counter\n",
    "l = sorted(list(map(int,input().split())))\n",
    "print(round(sum(l)/float(len(l)),1)) #calculating mean\n",
    "if len(l)%2!=0:\n",
    "    print(round(l[int(len(l)/2)],1))  \n",
    "else:\n",
    "    print(round((l[(len(l)/2)]+l[(len(l)/2) - 1])/float(2),1)) #calulating median\n",
    "mode = Counter(l)\n",
    "print(min([key for m in [max(mode.values())] for key, value in mode.items() if value == m])) #calculating mode"
   ]
  },
  {
   "cell_type": "code",
   "execution_count": 68,
   "metadata": {},
   "outputs": [
    {
     "name": "stdout",
     "output_type": "stream",
     "text": [
      "1\n"
     ]
    }
   ],
   "source": []
  }
 ],
 "metadata": {
  "kernelspec": {
   "display_name": "python3.5",
   "language": "python",
   "name": "python3.5"
  },
  "language_info": {
   "codemirror_mode": {
    "name": "ipython",
    "version": 2
   },
   "file_extension": ".py",
   "mimetype": "text/x-python",
   "name": "python",
   "nbconvert_exporter": "python",
   "pygments_lexer": "ipython2",
   "version": "2.7.15"
  }
 },
 "nbformat": 4,
 "nbformat_minor": 2
}
