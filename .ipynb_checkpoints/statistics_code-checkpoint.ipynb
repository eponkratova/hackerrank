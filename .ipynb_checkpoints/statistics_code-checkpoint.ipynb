{
 "cells": [
  {
   "cell_type": "code",
   "execution_count": null,
   "metadata": {},
   "outputs": [],
   "source": [
    "from collections import Counter\n",
    "l = sorted(list(map(int,input().split())))\n",
    "print(round(sum(l)/float(len(l)),1)) #calculating mean\n",
    "if len(l)%2!=0:\n",
    "    print(round(l[int(len(l)/2)],1))  \n",
    "else:\n",
    "    print(round((l[int(len(l)/2)]+l[int(len(l)/2) - 1])/float(2),1)) #calulating median\n",
    "mode = Counter(l)\n",
    "print(min([key for m in [max(mode.values())] for key, value in mode.items() if value == m])) #calculating mode\n",
    "\n",
    "#Alternativly,\n",
    "import numpy as np\n",
    "from scipy import stats\n",
    "size = int(input())\n",
    "numbers = list(map(int, input().split()))\n",
    "print(np.mean(numbers))\n",
    "print(np.median(numbers))\n",
    "print(int(stats.mode(numbers)[0]))"
   ]
  },
  {
   "cell_type": "code",
   "execution_count": null,
   "metadata": {},
   "outputs": [],
   "source": [
    "lst1 = list(map(int,input().split()))\n",
    "lst2 = list(map(int,input().split()))\n",
    "print(float( round((sum([i*j for i, j in zip(lst1,lst2)])/float(sum(lst2))),1)))#calculating weighted mean"
   ]
  },
  {
   "cell_type": "code",
   "execution_count": null,
   "metadata": {},
   "outputs": [],
   "source": [
    "#IQR interpretation: the max dif in scores for the middle 50% of the data is IQR.\n",
    "def median(nums):\n",
    "    if len(nums)%2 == 0:\n",
    "        return int(sum(nums[len(nums)//2-1:len(nums)//2+1])/2)\n",
    "    else:\n",
    "        return nums[len(nums)//2]\n",
    "\n",
    "def quartiles(N,nums):\n",
    "    Q1 = median(nums[:len(nums)//2])\n",
    "    Q2 = median(nums)\n",
    "    if N%2 == 0:\n",
    "        Q3 = median(nums[len(nums)//2:])\n",
    "    else:\n",
    "        Q3 = median(nums[len(nums)//2+1:])\n",
    "    return Q1,Q2,Q3\n",
    "\n",
    "N = int(input())\n",
    "nums = sorted([int(num) for num in input().split()])\n",
    "Q1,Q2,Q3 = quartiles(N,nums)\n",
    "print(Q1)\n",
    "print(Q2)\n",
    "print(Q3)"
   ]
  },
  {
   "cell_type": "code",
   "execution_count": 1,
   "metadata": {},
   "outputs": [
    {
     "name": "stdout",
     "output_type": "stream",
     "text": [
      "'6'\n",
      "'6 12 8 10 20 16'\n",
      "'5 4 3 2 1 5'\n",
      "9.0\n"
     ]
    }
   ],
   "source": [
    "final = []\n",
    "def finals(lst1, lst2):\n",
    "    global final\n",
    "    for i in range(len(lst1)):\n",
    "        final += [lst1[i]] * lst2[i]\n",
    "    final.sort()\n",
    "    return final\n",
    "\n",
    "def median(final):\n",
    "    if len(final)%2 == 0:\n",
    "        return int(sum(final[len(final)//2-1:len(final)//2+1])/2)\n",
    "    else:\n",
    "        return final[len(final)//2]\n",
    "\n",
    "def quartiles(N, final):\n",
    "    global Q1, Q3\n",
    "    Q1 = median(final[:len(final)//2])\n",
    "    Q2 = median(final)\n",
    "    if N%2 == 0:\n",
    "        Q3 = median(final[len(final)//2:])\n",
    "    else:\n",
    "        Q3 = median(final[len(final)//2+1:])\n",
    "    return Q1,Q2,Q3\n",
    "\n",
    "def interquartile(Q1,Q3):\n",
    "    IQR = round(Q3 - Q1,1)\n",
    "    print(IQR)\n",
    "\n",
    "N = int(input())\n",
    "lst1 = list(map(int,input().split()))\n",
    "lst2 = list(map(int,input().split()))\n",
    "finals(lst1, lst2)\n",
    "Q1,Q2,Q3 = quartiles(N,final)\n",
    "interquartile(Q1,Q3)\n",
    "\n",
    "#Alternativly,\n",
    "import statistics as st\n",
    "\n",
    "n = int(input())\n",
    "data = list(map(int, input().split()))\n",
    "freq = list(map(int, input().split()))\n",
    "\n",
    "s = []\n",
    "for i in range(n):\n",
    "    s += [data[i]] * freq[i]\n",
    "N = sum(freq)\n",
    "s.sort()\n",
    "\n",
    "if n%2 != 0:\n",
    "    q1 = st.median(s[:N//2])\n",
    "    q3 = st.median(s[N//2+1:])\n",
    "else:\n",
    "    q1 = st.median(s[:N//2])\n",
    "    q3 = st.median(s[N//2:])\n",
    "\n",
    "ir = round(float(q3-q1), 1)\n",
    "print(ir)"
   ]
  }
 ],
 "metadata": {
  "kernelspec": {
   "display_name": "python3.5",
   "language": "python",
   "name": "python3.5"
  },
  "language_info": {
   "codemirror_mode": {
    "name": "ipython",
    "version": 2
   },
   "file_extension": ".py",
   "mimetype": "text/x-python",
   "name": "python",
   "nbconvert_exporter": "python",
   "pygments_lexer": "ipython2",
   "version": "2.7.15"
  }
 },
 "nbformat": 4,
 "nbformat_minor": 2
}
