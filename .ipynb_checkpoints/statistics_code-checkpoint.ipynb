{
 "cells": [
  {
   "cell_type": "code",
   "execution_count": null,
   "metadata": {},
   "outputs": [],
   "source": [
    "from collections import Counter\n",
    "l = sorted(list(map(int,input().split())))\n",
    "print(round(sum(l)/float(len(l)),1)) #calculating mean\n",
    "if len(l)%2!=0:\n",
    "    print(round(l[int(len(l)/2)],1))  \n",
    "else:\n",
    "    print(round((l[int(len(l)/2)]+l[int(len(l)/2) - 1])/float(2),1)) #calulating median\n",
    "mode = Counter(l)\n",
    "print(min([key for m in [max(mode.values())] for key, value in mode.items() if value == m])) #calculating mode\n",
    "\n",
    "#Alternativly,\n",
    "import numpy as np\n",
    "from scipy import stats\n",
    "size = int(input())\n",
    "numbers = list(map(int, input().split()))\n",
    "print(np.mean(numbers))\n",
    "print(np.median(numbers))\n",
    "print(int(stats.mode(numbers)[0]))"
   ]
  },
  {
   "cell_type": "code",
   "execution_count": null,
   "metadata": {},
   "outputs": [],
   "source": [
    "lst1 = list(map(int,input().split()))\n",
    "lst2 = list(map(int,input().split()))\n",
    "print(float( round((sum([i*j for i, j in zip(lst1,lst2)])/float(sum(lst2))),1)))#calculating weighted mean"
   ]
  },
  {
   "cell_type": "code",
   "execution_count": null,
   "metadata": {},
   "outputs": [],
   "source": [
    "#IQR interpretation: the max dif in scores for the middle 50% of the data is IQR.\n",
    "def median(nums):\n",
    "    if len(nums)%2 == 0:\n",
    "        return int(sum(nums[len(nums)//2-1:len(nums)//2+1])/2)\n",
    "    else:\n",
    "        return nums[len(nums)//2]\n",
    "def quartiles(N,nums):\n",
    "    Q1 = median(nums[:len(nums)//2])\n",
    "    Q2 = median(nums)\n",
    "    if N%2 == 0:\n",
    "        Q3 = median(nums[len(nums)//2:])\n",
    "    else:\n",
    "        Q3 = median(nums[len(nums)//2+1:])\n",
    "    return Q1,Q2,Q3\n",
    "N = int(input())\n",
    "nums = sorted([int(num) for num in input().split()])\n",
    "Q1,Q2,Q3 = quartiles(N,nums)\n",
    "print(Q1)\n",
    "print(Q2)\n",
    "print(Q3) #calculating quartiles"
   ]
  },
  {
   "cell_type": "code",
   "execution_count": 1,
   "metadata": {},
   "outputs": [
    {
     "name": "stdout",
     "output_type": "stream",
     "text": [
      "'6'\n",
      "'6 12 8 10 20 16'\n",
      "'5 4 3 2 1 5'\n",
      "9.0\n"
     ]
    }
   ],
   "source": [
    "final = []\n",
    "def finals(lst1, lst2):\n",
    "    global final\n",
    "    for i in range(len(lst1)):\n",
    "        final += [lst1[i]] * lst2[i]\n",
    "    final.sort()\n",
    "    return final\n",
    "def median(final):\n",
    "    if len(final)%2 == 0:\n",
    "        return int(sum(final[len(final)//2-1:len(final)//2+1])/2)\n",
    "    else:\n",
    "        return final[len(final)//2]\n",
    "def quartiles(N, final):\n",
    "    global Q1, Q3\n",
    "    Q1 = median(final[:len(final)//2])\n",
    "    Q2 = median(final)\n",
    "    if N%2 == 0:\n",
    "        Q3 = median(final[len(final)//2:])\n",
    "    else:\n",
    "        Q3 = median(final[len(final)//2+1:])\n",
    "    return Q1,Q2,Q3\n",
    "def interquartile(Q1,Q3):\n",
    "    IQR = round(Q3 - Q1,1)\n",
    "    print(IQR)\n",
    "N = int(input())\n",
    "lst1 = list(map(int,input().split()))\n",
    "lst2 = list(map(int,input().split()))\n",
    "finals(lst1, lst2)\n",
    "Q1,Q2,Q3 = quartiles(N,final)\n",
    "interquartile(Q1,Q3) #calculating interquartile range\n",
    "\n",
    "#Alternativly,\n",
    "import statistics as st\n",
    "n = int(input())\n",
    "data = list(map(int, input().split()))\n",
    "freq = list(map(int, input().split()))\n",
    "s = []\n",
    "for i in range(n):\n",
    "    s += [data[i]] * freq[i]\n",
    "N = sum(freq)\n",
    "s.sort()\n",
    "if n%2 != 0:\n",
    "    q1 = st.median(s[:N//2])\n",
    "    q3 = st.median(s[N//2+1:])\n",
    "else:\n",
    "    q1 = st.median(s[:N//2])\n",
    "    q3 = st.median(s[N//2:])\n",
    "ir = round(float(q3-q1), 1)\n",
    "print(ir)"
   ]
  },
  {
   "cell_type": "code",
   "execution_count": 5,
   "metadata": {},
   "outputs": [
    {
     "name": "stdout",
     "output_type": "stream",
     "text": [
      "'10 40 30 50 20'\n",
      "14.1\n"
     ]
    }
   ],
   "source": [
    "def standard_deviation(lists):\n",
    "    mean = (round(sum(lst)/float(len(lst)),1))\n",
    "    std = round((sum((i-mean)**2/len(lst) for i in lst)**0.5),1)\n",
    "    print(std)\n",
    "lst = list(map(int,input().split()))\n",
    "standard_deviation(lst) #calculating standard deviation\n",
    "\n",
    "#Alternativly\n",
    "import numpy as np\n",
    "N = int(input())\n",
    "X = list(map(int, input().split())) # or X = np.array(input().split(), int)\n",
    "print(\"{0:.1f}\".format(np.std(X)))"
   ]
  },
  {
   "cell_type": "code",
   "execution_count": 22,
   "metadata": {},
   "outputs": [
    {
     "name": "stdout",
     "output_type": "stream",
     "text": [
      "0.833333333333\n",
      "5/6\n"
     ]
    }
   ],
   "source": [
    "lst = [1, 2, 3, 4, 5, 6]\n",
    "lst2 = [1, 2, 3, 4, 5, 6]\n",
    "final = sum([1 for i in lst for j in lst2 if sum([i, j]) <=9])/float(sum([1 for i in lst for j in lst2]))\n",
    "print(final)\n",
    "\n",
    "#Alternativly,\n",
    "from itertools import product\n",
    "from fractions import Fraction\n",
    "favorable = sum(1 for x in product(range(1, 7), range(1, 7))\n",
    "        if sum(x) < 10)\n",
    "print(Fraction(favorable/float(36)).limit_denominator())"
   ]
  },
  {
   "cell_type": "code",
   "execution_count": 24,
   "metadata": {},
   "outputs": [
    {
     "name": "stdout",
     "output_type": "stream",
     "text": [
      "0.111111111111\n"
     ]
    }
   ],
   "source": [
    "lst = [1, 2, 3, 4, 5, 6]\n",
    "lst2 = [1, 2, 3, 4, 5, 6]\n",
    "final = sum([1 for i in lst for j in lst2 if sum([i, j])==6 and j!=i])/float(sum([1 for i in lst for j in lst2]))\n",
    "print(final)"
   ]
  },
  {
   "cell_type": "code",
   "execution_count": 25,
   "metadata": {},
   "outputs": [
    {
     "data": {
      "text/plain": [
       "[(1, 2, 3), (1, 3, 2), (2, 1, 3), (2, 3, 1), (3, 1, 2), (3, 2, 1)]"
      ]
     },
     "execution_count": 25,
     "metadata": {},
     "output_type": "execute_result"
    }
   ],
   "source": [
    "import itertools\n",
    "list(itertools.permutations([1, 2, 3]))"
   ]
  },
  {
   "cell_type": "code",
   "execution_count": 7,
   "metadata": {},
   "outputs": [
    {
     "data": {
      "text/plain": [
       "0.6230468749999999"
      ]
     },
     "execution_count": 7,
     "metadata": {},
     "output_type": "execute_result"
    }
   ],
   "source": [
    "from scipy.stats import binom\n",
    "# probability that you get 5 or less successes out of 10, when p=0.5\n",
    "binom.cdf(5, 10, 0.5)\n",
    "# probability that you get exactly 5 successes out of 10, when p=0.5\n",
    "binom.pmf(5, 10, 0.5)"
   ]
  },
  {
   "cell_type": "code",
   "execution_count": null,
   "metadata": {},
   "outputs": [],
   "source": [
    "p1, p2 = [int(i) for i in input().split()]\n",
    "n = int(input())\n",
    "p = p1/p2\n",
    "q = 1-p\n",
    "\n",
    "# Calculate Geometric Distribution\n",
    "print (round((q**(n-1))*p,3)) "
   ]
  },
  {
   "cell_type": "code",
   "execution_count": null,
   "metadata": {},
   "outputs": [],
   "source": [
    "#Calculating normal distribution\n",
    "import math\n",
    "\n",
    "def cumulative(x,mean,sd):\n",
    "    return 0.5*(1+math.erf((x-mean)/(sd*math.sqrt(2))))\n",
    "\n",
    "mean , sd = [float(i) for i in input().split()]\n",
    "x1 = float(input())\n",
    "print(round(cumulative(x1,mean,sd),3))\n",
    "x2_1, x2_2 = [float(i) for i in input().split()]\n",
    "print(round(cumulative(x2_2,mean,sd)-cumulative(x2_1,mean,sd),3))"
   ]
  }
 ],
 "metadata": {
  "kernelspec": {
   "display_name": "python3.5",
   "language": "python",
   "name": "python3.5"
  },
  "language_info": {
   "codemirror_mode": {
    "name": "ipython",
    "version": 2
   },
   "file_extension": ".py",
   "mimetype": "text/x-python",
   "name": "python",
   "nbconvert_exporter": "python",
   "pygments_lexer": "ipython2",
   "version": "2.7.15"
  }
 },
 "nbformat": 4,
 "nbformat_minor": 2
}
