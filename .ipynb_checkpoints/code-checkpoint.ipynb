{
 "cells": [
  {
   "cell_type": "code",
   "execution_count": 7,
   "metadata": {},
   "outputs": [
    {
     "data": {
      "text/plain": [
       "['896.']"
      ]
     },
     "execution_count": 7,
     "metadata": {},
     "output_type": "execute_result"
    }
   ],
   "source": [
    "import re\n",
    "#Creating pattern that can match the first three strings, but not the last (to be skipped). You may find that you will have to escape the dot metacharacter to match the period in some of the lines.\n",
    "pattern = '\\D+\\.|[0-9]+\\.'\n",
    "sr1 = 'cat.'\n",
    "sr2 = '896.'\n",
    "sr3 = '?=+.'\n",
    "sr4 = 'abc1'\n",
    "re.findall(pattern, sr2)"
   ]
  },
  {
   "cell_type": "code",
   "execution_count": 11,
   "metadata": {},
   "outputs": [
    {
     "data": {
      "text/plain": [
       "['@hackerrank.com']"
      ]
     },
     "execution_count": 11,
     "metadata": {},
     "output_type": "execute_result"
    }
   ],
   "source": [
    "pattern = '@hackerrank\\.com'\n",
    "sr1 = 'katya@hackerrank.com'\n",
    "sr2 = 'kate@gmail.com'\n",
    "sr3 = 'katya@hackerrank.ru'\n",
    "re.findall(pattern, sr1)"
   ]
  },
  {
   "cell_type": "code",
   "execution_count": 13,
   "metadata": {},
   "outputs": [
    {
     "data": {
      "text/plain": [
       "['can']"
      ]
     },
     "execution_count": 13,
     "metadata": {},
     "output_type": "execute_result"
    }
   ],
   "source": [
    "pattern = 'can|man|fan'\n",
    "sr1 = 'can'\n",
    "sr2 = 'dog'\n",
    "sr3 = 'man'\n",
    "re.findall(pattern, sr1)"
   ]
  },
  {
   "cell_type": "code",
   "execution_count": 1,
   "metadata": {},
   "outputs": [
    {
     "name": "stdout",
     "output_type": "stream",
     "text": [
      "2\n",
      "4\n",
      "'Hello'\n",
      "6\n",
      "8.0\n",
      "HackerRank Hello\n"
     ]
    }
   ],
   "source": [
    "i = 4\n",
    "d = 4.0\n",
    "s = 'HackerRank '\n",
    "# Declare second integer, double, and String variables.\n",
    "i_2 = int(input())\n",
    "d_2 = float(input())\n",
    "s_2 = str(input())\n",
    "# Read and save an integer, double, and String to your variables.\n",
    "\n",
    "# Print the sum of both integer variables on a new line.\n",
    "i_sum = i + i_2\n",
    "d_sum = d + d_2\n",
    "s_sum = s + s_2\n",
    "# Print the sum of the double variables on a new line.\n",
    "print(i_sum)\n",
    "print(d_sum)\n",
    "print(s_sum)"
   ]
  },
  {
   "cell_type": "code",
   "execution_count": 64,
   "metadata": {},
   "outputs": [
    {
     "name": "stdout",
     "output_type": "stream",
     "text": [
      "{'10': 4, '30': 1, '20': 3, '50': 1}\n",
      "3\n",
      "4\n",
      "1\n",
      "3\n",
      "1\n"
     ]
    }
   ],
   "source": [
    "def countElement(a):\n",
    "    arr = a.split()\n",
    "    g = {}\n",
    "    for i in arr:\n",
    "        if i in g: \n",
    "            g[i] +=1\n",
    "        else: \n",
    "            g[i] =1\n",
    "    cnt = 0\n",
    "    print(g)\n",
    "    for key, value in g.items():\n",
    "        if value ==2 or value == 3:\n",
    "            cnt +=1\n",
    "        elif value == 4 or value ==5:\n",
    "            cnt+=2\n",
    "        elif value ==6 or value ==7:\n",
    "            cnt +=3\n",
    "        elif value==8 or value ==9:\n",
    "            cnt +=4\n",
    "        elif value ==10 or value ==11:\n",
    "            cnt +=5\n",
    "    print(cnt)\n",
    "l = '10 20 20 10 10 30 50 10 20'\n",
    "countElement(l)\n",
    "\n",
    "#Alternativly\n",
    "#from collections import Counter\n",
    "#input()\n",
    "#socks, pairs = Counter(map(int,input().strip().split())), 0\n",
    "#for s in socks: pairs += socks[s]//2\n",
    "#print(pairs)\n",
    "\n",
    "#Alternativly\n",
    "def countElement(a):\n",
    "    arr = a.split()\n",
    "    g = {}\n",
    "    for i in arr:\n",
    "        if i in g: \n",
    "            g[i] +=1\n",
    "        else: \n",
    "            g[i] =1\n",
    "    cnt = 0\n",
    "    for value in g:\n",
    "        cnt += g[value]//2\n",
    "    print(cnt)\n",
    "l = '10 20 20 10 10 30 50 10 20'\n",
    "countElement(l)"
   ]
  }
 ],
 "metadata": {
  "kernelspec": {
   "display_name": "python3.5",
   "language": "python",
   "name": "python3.5"
  },
  "language_info": {
   "codemirror_mode": {
    "name": "ipython",
    "version": 2
   },
   "file_extension": ".py",
   "mimetype": "text/x-python",
   "name": "python",
   "nbconvert_exporter": "python",
   "pygments_lexer": "ipython2",
   "version": "2.7.15"
  }
 },
 "nbformat": 4,
 "nbformat_minor": 2
}
