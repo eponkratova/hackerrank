{
 "cells": [
  {
   "cell_type": "code",
   "execution_count": null,
   "metadata": {},
   "outputs": [],
   "source": [
    "from collections import Counter\n",
    "l = sorted(list(map(int,input().split())))\n",
    "print(round(sum(l)/float(len(l)),1)) #calculating mean\n",
    "if len(l)%2!=0:\n",
    "    print(round(l[int(len(l)/2)],1))  \n",
    "else:\n",
    "    print(round((l[int(len(l)/2)]+l[int(len(l)/2) - 1])/float(2),1)) #calulating median\n",
    "mode = Counter(l)\n",
    "print(min([key for m in [max(mode.values())] for key, value in mode.items() if value == m])) #calculating mode\n",
    "\n",
    "#Alternativly,\n",
    "import numpy as np\n",
    "from scipy import stats\n",
    "size = int(input())\n",
    "numbers = list(map(int, input().split()))\n",
    "print(np.mean(numbers))\n",
    "print(np.median(numbers))\n",
    "print(int(stats.mode(numbers)[0]))"
   ]
  },
  {
   "cell_type": "code",
   "execution_count": 13,
   "metadata": {},
   "outputs": [
    {
     "name": "stdout",
     "output_type": "stream",
     "text": [
      "'10 40 30 50 20'\n",
      "'1 2 3 4 5'\n",
      "32.0\n"
     ]
    }
   ],
   "source": [
    "lst1 = list(map(int,input().split()))\n",
    "lst2 = list(map(int,input().split()))\n",
    "print(float( round((sum([i*j for i, j in zip(lst1,lst2)])/float(sum(lst2))),1)))#calculating weighted mean"
   ]
  }
 ],
 "metadata": {
  "kernelspec": {
   "display_name": "python3.5",
   "language": "python",
   "name": "python3.5"
  },
  "language_info": {
   "codemirror_mode": {
    "name": "ipython",
    "version": 2
   },
   "file_extension": ".py",
   "mimetype": "text/x-python",
   "name": "python",
   "nbconvert_exporter": "python",
   "pygments_lexer": "ipython2",
   "version": "2.7.15"
  }
 },
 "nbformat": 4,
 "nbformat_minor": 2
}
