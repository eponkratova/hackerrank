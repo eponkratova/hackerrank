{
 "cells": [
  {
   "cell_type": "code",
   "execution_count": null,
   "metadata": {},
   "outputs": [],
   "source": [
    "#Write a while loop that calculates the sum of the integers from 1 to 20 (inclusive), excluding those integers evenly divisible by 3. (Hint: You'll find the modulo operator (%) and the continue statement handy for this.) Print the result of your calculation at the end of your code.\n",
    "import numpy as np\n",
    "i = 1\n",
    "total = 0\n",
    "while i <= 20:\n",
    "    if i % 3 == 0:\n",
    "        i += 1\n",
    "        continue\n",
    "    total += i\n",
    "    i += 1\n",
    "print(total) # Make sure to print the result"
   ]
  },
  {
   "cell_type": "code",
   "execution_count": null,
   "metadata": {},
   "outputs": [],
   "source": [
    "i = 9\n",
    "if i % 3 == 0:\n",
    "    print(1)\n",
    "else: print(2)"
   ]
  },
  {
   "cell_type": "code",
   "execution_count": null,
   "metadata": {},
   "outputs": [],
   "source": [
    "#Write a while loop that calculates the product of the integers from 1 to 20, but which stops after the accumulated product exceeds 1 billion (1000000000). Print the value of your calculated product afterward.\n",
    "i = 1\n",
    "product = 1\n",
    "while i <= 20 :\n",
    "    product *= i\n",
    "    i += 1    \n",
    "    if product >= 1000000000:\n",
    "        break\n",
    "print(product) # Make sure to print the result"
   ]
  },
  {
   "cell_type": "code",
   "execution_count": null,
   "metadata": {},
   "outputs": [],
   "source": [
    "i = 1\n",
    "while i < 10:\n",
    "    if i == 3 or i == 5 or i == 7:\n",
    "        pass\n",
    "    else:\n",
    "        print(i)\n",
    "    i += 1"
   ]
  },
  {
   "cell_type": "code",
   "execution_count": null,
   "metadata": {},
   "outputs": [],
   "source": [
    "#Write a script that computes the sum from 0 to a non-negative inputted number and prints the result. This time though, start at the user inputted number and work down to 0. This answer will look very much like the example in the lesson above; you'll just need to change a couple of things. (Consider: What should the result be if the input is 0?)\n",
    "my_num = int(input('Enter a number to find the sum up to: '))\n",
    "result = 0\n",
    "current = 1\n",
    "while current <= my_num:\n",
    "    result += current\n",
    "    current += 1\n",
    "print(result)"
   ]
  },
  {
   "cell_type": "code",
   "execution_count": null,
   "metadata": {},
   "outputs": [],
   "source": [
    "#Write a script that takes a user inputted number and prints whether it is positive, negative or zero, as \"The inputted number is (positive/negative/zero)\", depending in the input.\n",
    "number = int(input('Please enter a number: '))\n",
    "# Here are the print statements that you should use.\n",
    "if number > 0:\n",
    "    print('The inputted number is positive.')\n",
    "elif number <0:\n",
    "    print('The inputted number is negative.')\n",
    "else: print('The inputted number is zero.')"
   ]
  },
  {
   "cell_type": "code",
   "execution_count": null,
   "metadata": {},
   "outputs": [],
   "source": [
    "# Example input() statement\n",
    "N = int(input('Please enter a number: '))\n",
    "\n",
    "# Replace the next line with your code\n",
    "arrow = '>'\n",
    "arrow = '-' * N + arrow\n",
    "# Print the arrow when you are done\n",
    "print(arrow)"
   ]
  },
  {
   "cell_type": "code",
   "execution_count": null,
   "metadata": {},
   "outputs": [],
   "source": [
    "# Example input() statement\n",
    "s = input('Please enter a string: ')\n",
    "\n",
    "# Print the string when you are done\n",
    "print(s.upper())"
   ]
  },
  {
   "cell_type": "code",
   "execution_count": null,
   "metadata": {},
   "outputs": [],
   "source": [
    "# Example input() statement\n",
    "s = input('Please enter a string: ')\n",
    "if s ==s.upper():\n",
    "    print(s.lower())\n",
    "elif s !=s.upper():\n",
    "    print(s.upper() + '!!!')\n",
    "# Print the string when you are done"
   ]
  },
  {
   "cell_type": "code",
   "execution_count": null,
   "metadata": {},
   "outputs": [],
   "source": [
    "import string\n",
    "# Example input() statement\n",
    "s = input('Please enter a string: ')\n",
    "if s == s + '!!!':\n",
    "    \n",
    "# Print the string when you are done\n",
    "    print(string.replace(s, '!!!','.'))"
   ]
  },
  {
   "cell_type": "code",
   "execution_count": null,
   "metadata": {},
   "outputs": [],
   "source": [
    "s = input('Please enter a string: ')\n",
    "if len(s) >=6:\n",
    "    print(s[5])\n",
    "else:\n",
    "    print('String too short')"
   ]
  },
  {
   "cell_type": "code",
   "execution_count": null,
   "metadata": {},
   "outputs": [],
   "source": [
    "# Example input() statement\n",
    "s = input('Please enter a string: ')\n",
    "if len(s) >=5:\n",
    "    print(s[2:5])\n",
    "else:\n",
    "    print(\"String too short.\")"
   ]
  },
  {
   "cell_type": "code",
   "execution_count": null,
   "metadata": {},
   "outputs": [],
   "source": [
    "# Example input() statement\n",
    "s = input('Please enter a string: ')\n",
    "if len(s) >=2:\n",
    "    print(s[1::2])\n",
    "else:\n",
    "    # Use this error message if the string is too short\n",
    "    print('String too short.')"
   ]
  },
  {
   "cell_type": "code",
   "execution_count": null,
   "metadata": {},
   "outputs": [],
   "source": [
    "# Example input() statement\n",
    "s = input('Please enter a string: ')\n",
    "if len(s) >=2:\n",
    "    print(s[-2])\n",
    "else:\n",
    "# Print the string when you are done\n",
    "    print('String too short.')"
   ]
  },
  {
   "cell_type": "code",
   "execution_count": null,
   "metadata": {},
   "outputs": [],
   "source": [
    "# Example input() statement\n",
    "s = input('Please enter a string: ')\n",
    "\n",
    "i = 0\n",
    "while i < len(s):\n",
    "    print(s[i].upper())\n",
    "    i += 2"
   ]
  },
  {
   "cell_type": "code",
   "execution_count": null,
   "metadata": {},
   "outputs": [],
   "source": [
    "# Example input() statement\n",
    "s = input('Please enter a string: ')\n",
    "\n",
    "i = 0\n",
    "for letter in s:\n",
    "    print(letter.upper())\n",
    "    i += 2"
   ]
  },
  {
   "cell_type": "code",
   "execution_count": 3,
   "metadata": {},
   "outputs": [
    {
     "name": "stdout",
     "output_type": "stream",
     "text": [
      "Please enter a string: 'world'\n",
      "Hello world!\n"
     ]
    }
   ],
   "source": [
    "# Example input() statement\n",
    "s = input('Please enter a string: ')\n",
    "\n",
    "# Print out a friendly greeting in response\n",
    "print('Hello, {}!'.format(s))"
   ]
  },
  {
   "cell_type": "code",
   "execution_count": 4,
   "metadata": {},
   "outputs": [
    {
     "name": "stdout",
     "output_type": "stream",
     "text": [
      "Please enter an integer: 10\n",
      "Two times 10 is 20.\n"
     ]
    }
   ],
   "source": [
    "# Example input() statement\n",
    "n = int(input('Please enter an integer: '))\n",
    "\n",
    "# Place your print statement here\n",
    "print('Two times {0} is {1}.'.format(n, n*2))"
   ]
  },
  {
   "cell_type": "code",
   "execution_count": null,
   "metadata": {},
   "outputs": [],
   "source": [
    "from math import pi\n",
    "\n",
    "# Example input() statement\n",
    "n = int(input('Please enter an integer: '))\n",
    "\n",
    "format_string = '{:.10f}'\n",
    "\n",
    "# Replace this with your own print statement\n",
    "print(format_string.format(pi))"
   ]
  },
  {
   "cell_type": "code",
   "execution_count": 7,
   "metadata": {},
   "outputs": [
    {
     "name": "stdout",
     "output_type": "stream",
     "text": [
      "Please enter a series of comma-separated strings: 'one, two, three'\n",
      "Please enter a string to count: 'one'\n",
      "1\n"
     ]
    }
   ],
   "source": [
    "# Input series of comma-separated strings\n",
    "s1 = input('Please enter a series of comma-separated strings: ')\n",
    "# Split on comma+space to create the list\n",
    "l = s1.split(', ')\n",
    "# Input the string to count in the list\n",
    "s2 = input('Please enter a string to count: ')\n",
    "\n",
    "# Print out the number of times s2 occurs in s1\n",
    "print(s1.count(s2))"
   ]
  },
  {
   "cell_type": "code",
   "execution_count": 34,
   "metadata": {},
   "outputs": [
    {
     "name": "stdout",
     "output_type": "stream",
     "text": [
      "Please enter a series of comma-separated strings: 'one, two, three'\n",
      "['one', 'two', 'three', 'one']\n"
     ]
    }
   ],
   "source": [
    "# Input series of comma-separated strings\n",
    "s = input('Please enter a series of comma-separated strings: ')\n",
    "# Split on comma+space to create the list\n",
    "l = s.split(', ')\n",
    "l.append(l[0])\n",
    "# Append the first element to list l and then print the list\n",
    "print(l)"
   ]
  },
  {
   "cell_type": "code",
   "execution_count": 42,
   "metadata": {},
   "outputs": [
    {
     "name": "stdout",
     "output_type": "stream",
     "text": [
      "Please enter a series of comma-separated strings: 'one, two, three'\n",
      "['one', 'two', 'three', 'three', 'two', 'one']\n"
     ]
    }
   ],
   "source": [
    "# Input series of comma-separated strings\n",
    "s = input('Please enter a series of comma-separated strings: ')\n",
    "# Split on comma+space to create the list\n",
    "l = s.split(', ')\n",
    "\n",
    "# Convert list l into a palindrome and then print the list\n",
    "l2 = list(l)\n",
    "print(l+l2[::-1])"
   ]
  },
  {
   "cell_type": "code",
   "execution_count": 46,
   "metadata": {},
   "outputs": [
    {
     "name": "stdout",
     "output_type": "stream",
     "text": [
      "Please enter a series of comma-separated strings: 'one, two, three'\n",
      "['one', 'two', 'three', 'two', 'one']\n"
     ]
    }
   ],
   "source": [
    "# Input series of comma-separated strings\n",
    "s = input('Please enter a series of comma-separated strings: ')\n",
    "# Split on comma+space to create the list\n",
    "l = s.split(', ')\n",
    "\n",
    "# Convert list l into a palindrome and then print the list\n",
    "l2 = list(l)\n",
    "l3 = l+l2[::-1]\n",
    "l3.remove(l3[int(len(l3)/2)])\n",
    "print(l3)"
   ]
  },
  {
   "cell_type": "code",
   "execution_count": 67,
   "metadata": {},
   "outputs": [
    {
     "name": "stdout",
     "output_type": "stream",
     "text": [
      "Please enter a series of comma-separated strings: 'a, b, c, d'\n",
      "['b', 'd']\n"
     ]
    }
   ],
   "source": [
    "# Input series of comma-separated strings\n",
    "s = input('Please enter a series of comma-separated strings: ')\n",
    "# Split on comma+space to create the list\n",
    "l = s.split(', ')\n",
    "\n",
    "# Print the odd-indexed elements of list l\n",
    "print(list(reversed(l[::-2])))"
   ]
  },
  {
   "cell_type": "code",
   "execution_count": 69,
   "metadata": {},
   "outputs": [
    {
     "name": "stdout",
     "output_type": "stream",
     "text": [
      "Please enter a series of comma-separated strings: 'banana, apple, cherry'\n",
      "(0, 'apple')\n",
      "(1, 'banana')\n",
      "(2, 'cherry')\n"
     ]
    }
   ],
   "source": [
    "# Input series of comma-separated strings\n",
    "s = input('Please enter a series of comma-separated strings: ')\n",
    "# Split on comma+space to create the list\n",
    "l = s.split(', ')\n",
    "\n",
    "# Sort l, then print the elements of l in numbered fashion, starting at 1\n",
    "l.sort()\n",
    "for idx, enum in enumerate(l):\n",
    "    print(idx, enum)"
   ]
  },
  {
   "cell_type": "code",
   "execution_count": 71,
   "metadata": {},
   "outputs": [
    {
     "data": {
      "text/plain": [
       "['spam', 'spam', 'spam']"
      ]
     },
     "execution_count": 71,
     "metadata": {},
     "output_type": "execute_result"
    }
   ],
   "source": [
    "in_list = ['SPAM', 'Spam', 'spam']\n",
    "answer = [i.lower() for i in in_list]; answer"
   ]
  },
  {
   "cell_type": "code",
   "execution_count": 77,
   "metadata": {},
   "outputs": [
    {
     "name": "stdout",
     "output_type": "stream",
     "text": [
      "Please enter a number: 3\n",
      "1\n",
      "2\n",
      "6\n"
     ]
    }
   ],
   "source": [
    "# Example input() statement\n",
    "number = int(input('Please enter a number: '))\n",
    "factorial = 1\n",
    "for i in range(1, number+1):\n",
    "    factorial = factorial * i\n",
    "print(factorial)\n",
    "# Print your result like this:"
   ]
  },
  {
   "cell_type": "code",
   "execution_count": 87,
   "metadata": {},
   "outputs": [
    {
     "name": "stdout",
     "output_type": "stream",
     "text": [
      "Please enter a number: 7\n",
      "The number you inputted is a prime number.\n",
      "The number you inputted is a prime number.\n",
      "The number you inputted is a prime number.\n",
      "The number you inputted is a prime number.\n",
      "The number you inputted is a prime number.\n"
     ]
    }
   ],
   "source": [
    "import numpy as np\n",
    "\n",
    "number = int(input('Please enter a number: '))\n",
    "for i in range(2, number):\n",
    "    if number % i == 0:\n",
    "        print('The number you inputted is not a prime number.')\n",
    "    else:\n",
    "        print('The number you inputted is a prime number.')"
   ]
  },
  {
   "cell_type": "code",
   "execution_count": 89,
   "metadata": {},
   "outputs": [
    {
     "name": "stdout",
     "output_type": "stream",
     "text": [
      "Please enter a string: 'Hello World'\n",
      "Please enter a letter to count: 'l'\n",
      "3\n"
     ]
    }
   ],
   "source": [
    "# First get the string\n",
    "s = input('Please enter a string: ')\n",
    "# Then get the letter to count\n",
    "l = input('Please enter a letter to count: ')\n",
    "\n",
    "# Print the number of times letter is in the inputted string\n",
    "s.lower().split(',')\n",
    "print(s.count(l))"
   ]
  }
 ],
 "metadata": {
  "kernelspec": {
   "display_name": "python3.5",
   "language": "python",
   "name": "python3.5"
  },
  "language_info": {
   "codemirror_mode": {
    "name": "ipython",
    "version": 2
   },
   "file_extension": ".py",
   "mimetype": "text/x-python",
   "name": "python",
   "nbconvert_exporter": "python",
   "pygments_lexer": "ipython2",
   "version": "2.7.15"
  }
 },
 "nbformat": 4,
 "nbformat_minor": 2
}
