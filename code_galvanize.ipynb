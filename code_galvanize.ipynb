{
 "cells": [
  {
   "cell_type": "code",
   "execution_count": 6,
   "metadata": {},
   "outputs": [
    {
     "name": "stdout",
     "output_type": "stream",
     "text": [
      "147\n"
     ]
    }
   ],
   "source": [
    "#Write a while loop that calculates the sum of the integers from 1 to 20 (inclusive), excluding those integers evenly divisible by 3. (Hint: You'll find the modulo operator (%) and the continue statement handy for this.) Print the result of your calculation at the end of your code.\n",
    "i = 1\n",
    "total = 0\n",
    "while i <= 20:\n",
    "    if i % 3 == 0:\n",
    "        i += 1\n",
    "        continue\n",
    "    total += i\n",
    "    i += 1\n",
    "print(total) # Make sure to print the result"
   ]
  },
  {
   "cell_type": "code",
   "execution_count": 5,
   "metadata": {},
   "outputs": [
    {
     "name": "stdout",
     "output_type": "stream",
     "text": [
      "1\n"
     ]
    }
   ],
   "source": [
    "i = 9\n",
    "if i % 3 == 0:\n",
    "    print(1)\n",
    "else: print(2)"
   ]
  },
  {
   "cell_type": "code",
   "execution_count": null,
   "metadata": {},
   "outputs": [],
   "source": [
    "#Write a while loop that calculates the product of the integers from 1 to 20, but which stops after the accumulated product exceeds 1 billion (1000000000). Print the value of your calculated product afterward.\n",
    "i = 1\n",
    "product = 1\n",
    "while i <= 20 :\n",
    "    product *= i\n",
    "    i += 1    \n",
    "    if product >= 1000000000:\n",
    "        break\n",
    "print(product) # Make sure to print the result"
   ]
  },
  {
   "cell_type": "code",
   "execution_count": null,
   "metadata": {},
   "outputs": [],
   "source": [
    "i = 1\n",
    "while i < 10:\n",
    "    if i == 3 or i == 5 or i == 7:\n",
    "        pass\n",
    "    else:\n",
    "        print(i)\n",
    "    i += 1"
   ]
  },
  {
   "cell_type": "code",
   "execution_count": 9,
   "metadata": {},
   "outputs": [
    {
     "name": "stdout",
     "output_type": "stream",
     "text": [
      "Enter a number to find the sum up to: 4\n",
      "10\n"
     ]
    }
   ],
   "source": [
    "#Write a script that computes the sum from 0 to a non-negative inputted number and prints the result. This time though, start at the user inputted number and work down to 0. This answer will look very much like the example in the lesson above; you'll just need to change a couple of things. (Consider: What should the result be if the input is 0?)\n",
    "my_num = int(input('Enter a number to find the sum up to: '))\n",
    "result = 0\n",
    "current = 1\n",
    "while current <= my_num:\n",
    "    result += current\n",
    "    current += 1\n",
    "print(result)"
   ]
  },
  {
   "cell_type": "code",
   "execution_count": 11,
   "metadata": {},
   "outputs": [
    {
     "name": "stdout",
     "output_type": "stream",
     "text": [
      "Please enter a number: 2\n",
      "The inputted number is positive.\n"
     ]
    }
   ],
   "source": [
    "#Write a script that takes a user inputted number and prints whether it is positive, negative or zero, as \"The inputted number is (positive/negative/zero)\", depending in the input.\n",
    "number = int(input('Please enter a number: '))\n",
    "# Here are the print statements that you should use.\n",
    "if number > 0:\n",
    "    print('The inputted number is positive.')\n",
    "elif number <0:\n",
    "    print('The inputted number is negative.')\n",
    "else: print('The inputted number is zero.')"
   ]
  },
  {
   "cell_type": "code",
   "execution_count": 17,
   "metadata": {},
   "outputs": [
    {
     "name": "stdout",
     "output_type": "stream",
     "text": [
      "Please enter a number: 3\n",
      "--->\n"
     ]
    }
   ],
   "source": [
    "# Example input() statement\n",
    "N = int(input('Please enter a number: '))\n",
    "\n",
    "# Replace the next line with your code\n",
    "arrow = '>'\n",
    "arrow = '-' * N + arrow\n",
    "# Print the arrow when you are done\n",
    "print(arrow)"
   ]
  },
  {
   "cell_type": "code",
   "execution_count": 20,
   "metadata": {},
   "outputs": [
    {
     "name": "stdout",
     "output_type": "stream",
     "text": [
      "Please enter a string: 'yes'\n",
      "YES\n"
     ]
    }
   ],
   "source": [
    "# Example input() statement\n",
    "s = input('Please enter a string: ')\n",
    "\n",
    "# Print the string when you are done\n",
    "print(s.upper())"
   ]
  },
  {
   "cell_type": "code",
   "execution_count": 31,
   "metadata": {},
   "outputs": [
    {
     "name": "stdout",
     "output_type": "stream",
     "text": [
      "Please enter a string: 'HELLO'\n",
      "hello\n"
     ]
    }
   ],
   "source": [
    "# Example input() statement\n",
    "s = input('Please enter a string: ')\n",
    "if s ==s.upper():\n",
    "    print(s.lower())\n",
    "elif s !=s.upper():\n",
    "    print(s.upper() + '!!!')\n",
    "# Print the string when you are done"
   ]
  },
  {
   "cell_type": "code",
   "execution_count": 52,
   "metadata": {},
   "outputs": [
    {
     "name": "stdout",
     "output_type": "stream",
     "text": [
      "Please enter a string: 'Hello!!!'\n"
     ]
    }
   ],
   "source": [
    "import string\n",
    "# Example input() statement\n",
    "s = input('Please enter a string: ')\n",
    "if s == s + '!!!':\n",
    "    \n",
    "# Print the string when you are done\n",
    "    print(string.replace(s, '!!!','.'))"
   ]
  }
 ],
 "metadata": {
  "kernelspec": {
   "display_name": "python3.5",
   "language": "python",
   "name": "python3.5"
  },
  "language_info": {
   "codemirror_mode": {
    "name": "ipython",
    "version": 2
   },
   "file_extension": ".py",
   "mimetype": "text/x-python",
   "name": "python",
   "nbconvert_exporter": "python",
   "pygments_lexer": "ipython2",
   "version": "2.7.15"
  }
 },
 "nbformat": 4,
 "nbformat_minor": 2
}
