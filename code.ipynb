{
 "cells": [
  {
   "cell_type": "code",
   "execution_count": 7,
   "metadata": {},
   "outputs": [
    {
     "data": {
      "text/plain": [
       "['896.']"
      ]
     },
     "execution_count": 7,
     "metadata": {},
     "output_type": "execute_result"
    }
   ],
   "source": [
    "import re\n",
    "#Creating pattern that can match the first three strings, but not the last (to be skipped). You may find that you will have to escape the dot metacharacter to match the period in some of the lines.\n",
    "pattern = '\\D+\\.|[0-9]+\\.'\n",
    "sr1 = 'cat.'\n",
    "sr2 = '896.'\n",
    "sr3 = '?=+.'\n",
    "sr4 = 'abc1'\n",
    "re.findall(pattern, sr2)"
   ]
  },
  {
   "cell_type": "code",
   "execution_count": 11,
   "metadata": {},
   "outputs": [
    {
     "data": {
      "text/plain": [
       "['@hackerrank.com']"
      ]
     },
     "execution_count": 11,
     "metadata": {},
     "output_type": "execute_result"
    }
   ],
   "source": [
    "pattern = '@hackerrank\\.com'\n",
    "sr1 = 'katya@hackerrank.com'\n",
    "sr2 = 'kate@gmail.com'\n",
    "sr3 = 'katya@hackerrank.ru'\n",
    "re.findall(pattern, sr1)"
   ]
  },
  {
   "cell_type": "code",
   "execution_count": 13,
   "metadata": {},
   "outputs": [
    {
     "data": {
      "text/plain": [
       "['can']"
      ]
     },
     "execution_count": 13,
     "metadata": {},
     "output_type": "execute_result"
    }
   ],
   "source": [
    "pattern = 'can|man|fan'\n",
    "sr1 = 'can'\n",
    "sr2 = 'dog'\n",
    "sr3 = 'man'\n",
    "re.findall(pattern, sr1)"
   ]
  },
  {
   "cell_type": "code",
   "execution_count": 1,
   "metadata": {},
   "outputs": [
    {
     "name": "stdout",
     "output_type": "stream",
     "text": [
      "2\n",
      "4\n",
      "'Hello'\n",
      "6\n",
      "8.0\n",
      "HackerRank Hello\n"
     ]
    }
   ],
   "source": [
    "i = 4\n",
    "d = 4.0\n",
    "s = 'HackerRank '\n",
    "# Declare second integer, double, and String variables.\n",
    "i_2 = int(input())\n",
    "d_2 = float(input())\n",
    "s_2 = str(input())\n",
    "# Read and save an integer, double, and String to your variables.\n",
    "\n",
    "# Print the sum of both integer variables on a new line.\n",
    "i_sum = i + i_2\n",
    "d_sum = d + d_2\n",
    "s_sum = s + s_2\n",
    "# Print the sum of the double variables on a new line.\n",
    "print(i_sum)\n",
    "print(d_sum)\n",
    "print(s_sum)"
   ]
  },
  {
   "cell_type": "code",
   "execution_count": 64,
   "metadata": {},
   "outputs": [
    {
     "name": "stdout",
     "output_type": "stream",
     "text": [
      "{'10': 4, '30': 1, '20': 3, '50': 1}\n",
      "3\n",
      "4\n",
      "1\n",
      "3\n",
      "1\n"
     ]
    }
   ],
   "source": [
    "def countElement(a):\n",
    "    arr = a.split()\n",
    "    g = {}\n",
    "    for i in arr:\n",
    "        if i in g: \n",
    "            g[i] +=1\n",
    "        else: \n",
    "            g[i] =1\n",
    "    cnt = 0\n",
    "    print(g)\n",
    "    for key, value in g.items():\n",
    "        if value ==2 or value == 3:\n",
    "            cnt +=1\n",
    "        elif value == 4 or value ==5:\n",
    "            cnt+=2\n",
    "        elif value ==6 or value ==7:\n",
    "            cnt +=3\n",
    "        elif value==8 or value ==9:\n",
    "            cnt +=4\n",
    "        elif value ==10 or value ==11:\n",
    "            cnt +=5\n",
    "    print(cnt)\n",
    "l = '10 20 20 10 10 30 50 10 20'\n",
    "countElement(l)\n",
    "\n",
    "#Alternativly\n",
    "#from collections import Counter\n",
    "#input()\n",
    "#socks, pairs = Counter(map(int,input().strip().split())), 0\n",
    "#for s in socks: pairs += socks[s]//2\n",
    "#print(pairs)\n",
    "\n",
    "#Alternativly\n",
    "def countElement(a):\n",
    "    arr = a.split()\n",
    "    g = {}\n",
    "    for i in arr:\n",
    "        if i in g: \n",
    "            g[i] +=1\n",
    "        else: \n",
    "            g[i] =1\n",
    "    cnt = 0\n",
    "    for value in g:\n",
    "        cnt += g[value]//2\n",
    "    print(cnt)\n",
    "l = '10 20 20 10 10 30 50 10 20'\n",
    "countElement(l)"
   ]
  },
  {
   "cell_type": "code",
   "execution_count": 74,
   "metadata": {},
   "outputs": [
    {
     "data": {
      "text/plain": [
       "Counter({'10': 4, '20': 3, '30': 1, '50': 1})"
      ]
     },
     "execution_count": 74,
     "metadata": {},
     "output_type": "execute_result"
    }
   ],
   "source": [
    "from collections import Counter\n",
    "import collections\n",
    "arr = l.split()\n",
    "collections.Counter(arr)\n",
    "Counter(arr)"
   ]
  },
  {
   "cell_type": "code",
   "execution_count": 87,
   "metadata": {},
   "outputs": [
    {
     "name": "stdout",
     "output_type": "stream",
     "text": [
      "(13.0, 1.7425000000000002, 0.5125000000000001)\n"
     ]
    }
   ],
   "source": [
    "def solve(meal_cost, tip_percent, tax_percent):\n",
    "    tips = float(meal_cost * (tip_percent / float(100)))\n",
    "    tax = meal_cost * (tax_percent / float(100))\n",
    "    total = round(meal_cost + tips + tax)\n",
    "    print(total, tips, tax)\n",
    "solve(10.25,17,5)"
   ]
  },
  {
   "cell_type": "code",
   "execution_count": 90,
   "metadata": {},
   "outputs": [
    {
     "name": "stdout",
     "output_type": "stream",
     "text": [
      "6\n"
     ]
    }
   ],
   "source": [
    "#Complete the simpleArraySum function in the editor below. It must return the sum of the array elements as an integer.\n",
    "def simpleArraySum(ar):\n",
    "    sums = 0\n",
    "    for a in ar:\n",
    "        sums += a\n",
    "    print(sums)\n",
    "\n",
    "#Alternativly\n",
    "def simpleArraySum(ar):\n",
    "    print(sum(ar))\n",
    "simpleArraySum([1,2,3])"
   ]
  },
  {
   "cell_type": "code",
   "execution_count": 108,
   "metadata": {},
   "outputs": [
    {
     "name": "stdout",
     "output_type": "stream",
     "text": [
      "[1, 1]\n"
     ]
    }
   ],
   "source": [
    "def compareTriplets(a, b):\n",
    "    alice = [sum(x > y for x,y in zip(a,b))]\n",
    "    bob = [sum( y > x for x,y in zip(a,b))]\n",
    "    final =  alice + bob\n",
    "    print(final)\n",
    "a = [5, 6, 7]\n",
    "b = [3, 6, 10] \n",
    "compareTriplets(a,b)"
   ]
  },
  {
   "cell_type": "code",
   "execution_count": 123,
   "metadata": {},
   "outputs": [
    {
     "name": "stdout",
     "output_type": "stream",
     "text": [
      "15\n"
     ]
    }
   ],
   "source": [
    "# Complete the diagonalDifference function below.\n",
    "def diagonalDifference(arr):\n",
    "    diag_1 = arr[0][0] + arr[1][1] + arr[2][2]\n",
    "    diag_2 = arr[0][-1] + arr[1][-2] + arr[2][-3]\n",
    "    final = abs(diag_1 - diag_2)\n",
    "    print(final)\n",
    "\n",
    "#Alternativly\n",
    "def diagonalDifference(arr):    \n",
    "    size = len(arr[0])\n",
    "    diag_1 = 0\n",
    "    diag_2 = 0\n",
    "    for i in range(size):\n",
    "        diag_1 += arr[i][i]\n",
    "        diag_2 += arr[i][size-i-1]\n",
    "        final = abs(diag_1 - diag_2)\n",
    "    print(final)\n",
    "arr = [[11, 2, 4], [4, 5, 6], [10, 8, -12]]\n",
    "diagonalDifference(arr)"
   ]
  },
  {
   "cell_type": "code",
   "execution_count": 137,
   "metadata": {},
   "outputs": [
    {
     "name": "stdout",
     "output_type": "stream",
     "text": [
      "0.5\n",
      "0.333333333333\n",
      "0.166666666667\n"
     ]
    }
   ],
   "source": [
    "# Complete the plusMinus function below.\n",
    "def plusMinus(arr):\n",
    "    positive = 0\n",
    "    negative = 0\n",
    "    zero = 0\n",
    "    size = len(arr)\n",
    "    for a in arr:\n",
    "        if a > 0:\n",
    "            positive +=1\n",
    "        elif a < 0:\n",
    "            negative +=1\n",
    "        else: zero +=1\n",
    "    print(positive/float(size))\n",
    "    print(negative/float(size))\n",
    "    print(zero/float(size))\n",
    "arr = [-4 ,3 ,-9 ,0 ,4 ,1  ]\n",
    "plusMinus(arr)\n",
    "\n",
    "#Alternativly,\n",
    "n = float(raw_input())\n",
    "lst = [int(x) for x in raw_input().split()]\n",
    "print format(len([x for x in lst if x > 0])/n, \".6f\")\n",
    "print format(len([x for x in lst if x < 0])/n, \".6f\")\n",
    "print format(len([x for x in lst if x == 0])/n, \".6f\")"
   ]
  },
  {
   "cell_type": "code",
   "execution_count": 17,
   "metadata": {},
   "outputs": [
    {
     "name": "stdout",
     "output_type": "stream",
     "text": [
      "     #\n",
      "    ##\n",
      "   ###\n",
      "  ####\n",
      " #####\n",
      "######\n"
     ]
    }
   ],
   "source": [
    "# Complete the staircase function below.\n",
    "def staircase(n):\n",
    "    for ns in range(1, n+1):\n",
    "        print((n-ns)*' '+(ns*'#'))\n",
    "staircase(6)\n",
    "\n",
    "#Alternativly\n",
    "n = int(input())\n",
    "for i in range(1,n+1):\n",
    "print(('#'*i).rjust(n,' '))"
   ]
  },
  {
   "cell_type": "code",
   "execution_count": 66,
   "metadata": {
    "scrolled": true
   },
   "outputs": [
    {
     "name": "stdout",
     "output_type": "stream",
     "text": [
      "10 14\n"
     ]
    }
   ],
   "source": [
    "# Complete the miniMaxSum function below.\n",
    "def miniMaxSum(arr):\n",
    "    sorted_list = arr.sort()\n",
    "    #final = []\n",
    "    ma = [sum([i for i in arr[:-1]])]\n",
    "    mi = [sum([i for i in arr[1:]])]\n",
    "    final = ' '.join(map(str, (ma + mi)))\n",
    "    print(final)\n",
    "miniMaxSum(arr)\n",
    "\n",
    "#Alternativly\n",
    "lst = map(int,raw_input().strip().split(' '))\n",
    "x = sum(lst)\n",
    "print (x-(max(lst))), (x-(min(lst)))"
   ]
  },
  {
   "cell_type": "code",
   "execution_count": 78,
   "metadata": {},
   "outputs": [
    {
     "name": "stdout",
     "output_type": "stream",
     "text": [
      "4\n"
     ]
    }
   ],
   "source": [
    "# Complete the birthdayCakeCandles function below.\n",
    "def birthdayCakeCandles(ar):\n",
    "    maxs = max(ar)\n",
    "    lst = []\n",
    "    final = len([lst.append(i) for i in ar if i ==maxs])\n",
    "    print(final)\n",
    "ar = [82 ,49, 82, 82, 41, 82, 15, 63, 38, 25]\n",
    "birthdayCakeCandles(ar)\n",
    "\n",
    "#Alternativly\n",
    "def birthdayCakeCandles(ar):\n",
    "    return ar.count(max(ar))"
   ]
  },
  {
   "cell_type": "code",
   "execution_count": 76,
   "metadata": {},
   "outputs": [
    {
     "data": {
      "text/plain": [
       "3"
      ]
     },
     "execution_count": 76,
     "metadata": {},
     "output_type": "execute_result"
    }
   ],
   "source": [
    "def timeConversion(s):\n",
    "    # Checking if last two elements of time \n",
    "    # is AM and first two elements are 12 \n",
    "    if s[-2:] == \"AM\" and s[:2] == \"12\": \n",
    "        return \"00\" + s[2:-2] \n",
    "          \n",
    "    # remove the AM     \n",
    "    elif s[-2:] == \"AM\": \n",
    "        return s[:-2] \n",
    "      \n",
    "    # Checking if last two elements of time \n",
    "    # is PM and first two elements are 12    \n",
    "    elif s[-2:] == \"PM\" and s[:2] == \"12\": \n",
    "        return s[:-2] \n",
    "          \n",
    "    else: \n",
    "          \n",
    "        # add 12 to hours and remove PM \n",
    "        return str(int(s[:2]) + 12) + s[2:8] \n",
    "  "
   ]
  },
  {
   "cell_type": "code",
   "execution_count": 80,
   "metadata": {},
   "outputs": [
    {
     "data": {
      "text/plain": [
       "':05:45'"
      ]
     },
     "execution_count": 80,
     "metadata": {},
     "output_type": "execute_result"
    }
   ],
   "source": [
    "s = '07:05:45PM'\n",
    "s[2:8]"
   ]
  }
 ],
 "metadata": {
  "kernelspec": {
   "display_name": "python3.5",
   "language": "python",
   "name": "python3.5"
  },
  "language_info": {
   "codemirror_mode": {
    "name": "ipython",
    "version": 2
   },
   "file_extension": ".py",
   "mimetype": "text/x-python",
   "name": "python",
   "nbconvert_exporter": "python",
   "pygments_lexer": "ipython2",
   "version": "2.7.15"
  }
 },
 "nbformat": 4,
 "nbformat_minor": 2
}
